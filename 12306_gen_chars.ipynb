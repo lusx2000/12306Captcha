{
 "cells": [
  {
   "cell_type": "code",
   "execution_count": 1,
   "metadata": {},
   "outputs": [],
   "source": [
    "%reload_ext autoreload\n",
    "%autoreload 2\n",
    "%matplotlib inline"
   ]
  },
  {
   "cell_type": "code",
   "execution_count": 2,
   "metadata": {},
   "outputs": [],
   "source": [
    "vocabs = ['中国结',\n",
    "  '仪表盘',\n",
    "  '公交卡',\n",
    "  '冰箱',\n",
    "  '创可贴',\n",
    "  '刺绣',\n",
    "  '剪纸',\n",
    "  '印章',\n",
    "  '卷尺',\n",
    "  '双面胶',\n",
    "  '口哨',\n",
    "  '啤酒',\n",
    "  '安全帽',\n",
    "  '开瓶器',\n",
    "  '手掌印',\n",
    "  '打字机',\n",
    "  '护腕',\n",
    "  '拖把',\n",
    "  '挂钟',\n",
    "  '排风机',\n",
    "  '文具盒',\n",
    "  '日历',\n",
    "  '本子',\n",
    "  '档案袋',\n",
    "  '棉棒',\n",
    "  '樱桃',\n",
    "  '毛线',\n",
    "  '沙包',\n",
    "  '沙拉',\n",
    "  '海报',\n",
    "  '海苔',\n",
    "  '海鸥',\n",
    "  '漏斗',\n",
    "  '烛台',\n",
    "  '热水袋',\n",
    "  '牌坊',\n",
    "  '狮子',\n",
    "  '珊瑚',\n",
    "  '电子秤',\n",
    "  '电线',\n",
    "  '电饭煲',\n",
    "  '盘子',\n",
    "  '篮球',\n",
    "  '红枣',\n",
    "  '红豆',\n",
    "  '红酒',\n",
    "  '绿豆',\n",
    "  '网球拍',\n",
    "  '老虎',\n",
    "  '耳塞',\n",
    "  '航母',\n",
    "  '苍蝇拍',\n",
    "  '茶几',\n",
    "  '茶盅',\n",
    "  '药片',\n",
    "  '菠萝',\n",
    "  '蒸笼',\n",
    "  '薯条',\n",
    "  '蚂蚁',\n",
    "  '蜜蜂',\n",
    "  '蜡烛',\n",
    "  '蜥蜴',\n",
    "  '订书机',\n",
    "  '话梅',\n",
    "  '调色板',\n",
    "  '跑步机',\n",
    "  '路灯',\n",
    "  '辣椒酱',\n",
    "  '金字塔',\n",
    "  '钟表',\n",
    "  '铃铛',\n",
    "  '锅铲',\n",
    "  '锣',\n",
    "  '锦旗',\n",
    "  '雨靴',\n",
    "  '鞭炮',\n",
    "  '风铃',\n",
    "  '高压锅',\n",
    "  '黑板',\n",
    "  '龙舟']"
   ]
  },
  {
   "cell_type": "code",
   "execution_count": 3,
   "metadata": {},
   "outputs": [],
   "source": [
    "reg = [\n",
    "    '^',\n",
    "    '\"',\n",
    "    '~',\n",
    "    '*',\n",
    "    ',',\n",
    "    '.',\n",
    "]"
   ]
  },
  {
   "cell_type": "code",
   "execution_count": 81,
   "metadata": {},
   "outputs": [],
   "source": [
    "from captcha.image import ImageCaptcha\n",
    "import random\n",
    "from tqdm import tqdm"
   ]
  },
  {
   "cell_type": "code",
   "execution_count": 90,
   "metadata": {},
   "outputs": [],
   "source": [
    "cap = ImageCaptcha(80, 80, fonts=['/usr/share/fonts/MFShangYa_Noncommercial-Regular.ttf', \n",
    "                                  '/usr/share/fonts/msyh.ttc',\n",
    "                                  '/usr/share/fonts/simsun.ttc'])"
   ]
  },
  {
   "cell_type": "code",
   "execution_count": 91,
   "metadata": {},
   "outputs": [],
   "source": [
    "def str_insert(str, word, pos):\n",
    "    return str[:pos] + word + str[pos:]"
   ]
  },
  {
   "cell_type": "code",
   "execution_count": 92,
   "metadata": {},
   "outputs": [
    {
     "name": "stderr",
     "output_type": "stream",
     "text": [
      "100%|██████████| 80/80 [06:55<00:00,  5.19s/it]\n"
     ]
    }
   ],
   "source": [
    "for word in tqdm(vocabs):\n",
    "    for i in range(2000):\n",
    "        if len(word) == 2:\n",
    "            # data augmentation with 50% noise char\n",
    "            num = random.randint(0, 100)\n",
    "            if num < 50:\n",
    "                nw = str_insert(word, reg[num%len(reg)], num%(len(word)+1))\n",
    "                cap.write(nw, '/data/12306/chars/'+word+'/'+str(i)+'.png')\n",
    "            else:\n",
    "                cap.write(word, '/data/12306/chars/'+word+'/'+str(i)+'.png')\n",
    "        else:\n",
    "            cap.write(word, '/data/12306/chars/'+word+'/'+str(i)+'.png')"
   ]
  },
  {
   "cell_type": "code",
   "execution_count": null,
   "metadata": {
    "scrolled": true
   },
   "outputs": [],
   "source": [
    "insert_sting_middle('龙舟', ',', 0)"
   ]
  },
  {
   "cell_type": "code",
   "execution_count": null,
   "metadata": {},
   "outputs": [],
   "source": [
    "len('龙舟')"
   ]
  },
  {
   "cell_type": "code",
   "execution_count": null,
   "metadata": {},
   "outputs": [],
   "source": []
  }
 ],
 "metadata": {
  "kernelspec": {
   "display_name": "Python [conda env:torch]",
   "language": "python",
   "name": "conda-env-torch-py"
  },
  "language_info": {
   "codemirror_mode": {
    "name": "ipython",
    "version": 3
   },
   "file_extension": ".py",
   "mimetype": "text/x-python",
   "name": "python",
   "nbconvert_exporter": "python",
   "pygments_lexer": "ipython3",
   "version": "3.6.9"
  }
 },
 "nbformat": 4,
 "nbformat_minor": 2
}
